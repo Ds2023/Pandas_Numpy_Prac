{
  "cells": [
    {
      "cell_type": "markdown",
      "metadata": {
        "id": "rRePCUO_EtZs"
      },
      "source": [
        "# **Introduction to Numpy**"
      ]
    },
    {
      "cell_type": "markdown",
      "metadata": {
        "id": "dsasgY7tFAlZ"
      },
      "source": [
        "**What is NumPy?**\n",
        "\n",
        "NumPy (Numerical Python) is a  powerful library in Python for numerical and mathematical operations.\n",
        "\n",
        "**Why Numpy?**\n",
        "\n",
        "It allows for:\n",
        "- Numerical Calculations\n",
        "- Multidimensional array storage\n",
        "- Matrices storage\n",
        "\n",
        "Key features of the library include;\n",
        "- Arrays\n",
        "- Mathematical functions\n",
        "- Random Number Generation\n",
        "- Broadcasting etc\n",
        "\n",
        "\n",
        "\n",
        "\n",
        "\n"
      ]
    },
    {
      "cell_type": "markdown",
      "metadata": {
        "id": "8U5Qldi-K4YV"
      },
      "source": [
        "# **Installation and Importing**"
      ]
    },
    {
      "cell_type": "code",
      "execution_count": null,
      "metadata": {
        "id": "N74MVYmHE_6E"
      },
      "outputs": [],
      "source": [
        "## Installation of numpy\n",
        "\n",
        "## pip install numpy"
      ]
    },
    {
      "cell_type": "code",
      "source": [],
      "metadata": {
        "id": "ijWxVw_MpFg5"
      },
      "execution_count": null,
      "outputs": []
    },
    {
      "cell_type": "code",
      "execution_count": null,
      "metadata": {
        "colab": {
          "base_uri": "https://localhost:8080/"
        },
        "id": "2NssYFtx-mmI",
        "outputId": "142d7435-5395-451b-893f-d63536d2b112"
      },
      "outputs": [
        {
          "output_type": "stream",
          "name": "stdout",
          "text": [
            "Requirement already satisfied: numpy in /usr/local/lib/python3.10/dist-packages (1.25.2)\n"
          ]
        }
      ],
      "source": [
        "pip install numpy"
      ]
    },
    {
      "cell_type": "code",
      "execution_count": null,
      "metadata": {
        "id": "vgRVfVNhfXK0"
      },
      "outputs": [],
      "source": [
        "# Importing Numpy\n",
        "\n",
        "import numpy as np"
      ]
    },
    {
      "cell_type": "code",
      "execution_count": null,
      "metadata": {
        "id": "l38K0QOffap4"
      },
      "outputs": [],
      "source": [
        "np?"
      ]
    },
    {
      "cell_type": "markdown",
      "metadata": {
        "id": "gVYGfLDvJglg"
      },
      "source": [
        "# **Numpy Arrays**"
      ]
    },
    {
      "cell_type": "markdown",
      "metadata": {
        "id": "SLb81PLFJj_F"
      },
      "source": [
        "**What is a NumPy Array?**\n",
        "\n",
        "**Definition**: A NumPy array is a multidimensional, homogeneous data structure that allows you to store and manipulate large datasets efficiently.\n",
        "\n",
        "**Homogeneous Data**: Unlike Python lists, NumPy arrays contain elements of the same data type. This homogeneity allows for optimized memory storage and efficient element-wise operations.\n",
        "\n",
        "**Multidimensional**: NumPy arrays can have multiple dimensions (1D, 2D, 3D, etc.), making them suitable for representing matrices, vectors, and higher-dimensional data.\n",
        "\n",
        "**Key Features:**\n",
        "\n",
        "**Efficiency:**\n",
        "\n",
        "NumPy arrays are implemented in C and provide efficient storage and operations on large datasets, making them faster than regular Python lists.\n",
        "\n",
        "**Element-wise Operations:**\n",
        "\n",
        "NumPy enables you to perform operations on entire arrays without the need for explicit looping. This is known as vectorization, a key feature that enhances code readability and performance.\n",
        "\n",
        "**Broadcasting:**\n",
        "\n",
        "NumPy supports broadcasting, allowing for operations between arrays of different shapes and sizes. This simplifies code and makes it more flexible.\n",
        "\n",
        "**Indexing and Slicing:**\n",
        "\n",
        "Similar to Python lists, NumPy arrays support indexing and slicing, making it easy to extract specific elements or subarrays."
      ]
    },
    {
      "cell_type": "markdown",
      "metadata": {
        "id": "UpdR5Sm6Tp9s"
      },
      "source": [
        "# **Numpy Data Types:**\n",
        "\n",
        "**Integer Types:**\n",
        "\n",
        "np.int8, np.int16, np.int32, np.int64: Signed integer types with 8, 16, 32, or 64 bits.\n",
        "np.uint8, np.uint16, np.uint32, np.uint64: Unsigned integer types with 8, 16, 32, or 64 bits.\n",
        "\n",
        "**Floating-Point Types:**\n",
        "\n",
        "np.float16, np.float32, np.float64: Floating-point types with 16, 32, or 64 bits.\n",
        "np.complex64, np.complex128: Complex number types with 64 or 128 bits.\n",
        "\n",
        "**Other Numeric Types:**\n",
        "\n",
        "np.bool: Boolean type.\n",
        "np.object: Object type, which can hold any Python object.\n",
        "np.str_, np.unicode_: String types for ASCII and Unicode strings.\n",
        "\n",
        "**Special Types:**\n",
        "\n",
        "np.void: Void type, used for custom data types.\n",
        "\n",
        "**Generic Types:**\n",
        "\n",
        "np.number: Generic numeric type (superclass of all numeric types).\n",
        "np.integer: Generic integer type (superclass of all integer types).\n",
        "np.floating: Generic floating-point type (superclass of all floating-point types)."
      ]
    },
    {
      "cell_type": "markdown",
      "metadata": {
        "id": "npba7E58K0XP"
      },
      "source": [
        "# **Creating Arrays**"
      ]
    },
    {
      "cell_type": "markdown",
      "metadata": {
        "id": "CYuu2I5nLRfP"
      },
      "source": [
        "**From a python list**"
      ]
    },
    {
      "cell_type": "code",
      "execution_count": null,
      "metadata": {
        "id": "T-mY5lZgAMmI",
        "colab": {
          "base_uri": "https://localhost:8080/"
        },
        "outputId": "56585c7e-4b92-4b69-d789-9c2a7d433dd1"
      },
      "outputs": [
        {
          "output_type": "execute_result",
          "data": {
            "text/plain": [
              "[1, 2, 3, 4, 5]"
            ]
          },
          "metadata": {},
          "execution_count": 6
        }
      ],
      "source": [
        "python_list = [1, 2, 3, 4, 5]\n",
        "python_list"
      ]
    },
    {
      "cell_type": "code",
      "execution_count": null,
      "metadata": {
        "colab": {
          "base_uri": "https://localhost:8080/"
        },
        "id": "48FNkGM6JjpN",
        "outputId": "e0f5dc46-9e58-4d34-b8f0-e799bcc6303a"
      },
      "outputs": [
        {
          "output_type": "stream",
          "name": "stdout",
          "text": [
            "[1 2 3 4 5]\n"
          ]
        }
      ],
      "source": [
        "numpy_array = np.array(python_list)\n",
        "print(numpy_array)"
      ]
    },
    {
      "cell_type": "code",
      "execution_count": null,
      "metadata": {
        "colab": {
          "base_uri": "https://localhost:8080/"
        },
        "id": "Ee69OiPQVwty",
        "outputId": "3c600bc0-600a-4efc-f5b2-b6fc2798dce4"
      },
      "outputs": [
        {
          "output_type": "execute_result",
          "data": {
            "text/plain": [
              "array([1, 2, 3, 4])"
            ]
          },
          "metadata": {},
          "execution_count": 7
        }
      ],
      "source": [
        "np.array([1,2,3,4])"
      ]
    },
    {
      "cell_type": "code",
      "execution_count": null,
      "metadata": {
        "colab": {
          "base_uri": "https://localhost:8080/"
        },
        "id": "IwJ0RZlgLceE",
        "outputId": "a44714a1-76b4-4ae2-f3bf-d316ddf566e7"
      },
      "outputs": [
        {
          "output_type": "stream",
          "name": "stdout",
          "text": [
            "Python List : <class 'list'>\n",
            "Numpy Array : <class 'numpy.ndarray'>\n"
          ]
        }
      ],
      "source": [
        "print(f\"Python List : {type(python_list)}\")\n",
        "print(f\"Numpy Array : {type(numpy_array)}\")"
      ]
    },
    {
      "cell_type": "code",
      "execution_count": null,
      "metadata": {
        "colab": {
          "base_uri": "https://localhost:8080/"
        },
        "id": "ZVUN5zYPAgK_",
        "outputId": "7e84ca83-f242-4bcf-9902-92f5270dd905"
      },
      "outputs": [
        {
          "data": {
            "text/plain": [
              "array([2, 3, 4, 5])"
            ]
          },
          "execution_count": 14,
          "metadata": {},
          "output_type": "execute_result"
        }
      ],
      "source": [
        "np.array([2,3,4,5])"
      ]
    },
    {
      "cell_type": "markdown",
      "metadata": {
        "id": "HL1fsRTkLzkg"
      },
      "source": [
        "**Using 'arange'**"
      ]
    },
    {
      "cell_type": "code",
      "execution_count": null,
      "metadata": {
        "colab": {
          "base_uri": "https://localhost:8080/"
        },
        "id": "MSKkjGLQfagq",
        "outputId": "06f7c125-4d0b-4dad-cfbc-dfa2dc321931"
      },
      "outputs": [
        {
          "output_type": "stream",
          "name": "stdout",
          "text": [
            "[ 0  1  2  3  4  5  6  7  8  9 10 11 12 13 14]\n",
            "<class 'numpy.ndarray'>\n"
          ]
        }
      ],
      "source": [
        "# Create an array with values from 0 to x-1\n",
        "\n",
        "arr = np.arange(15)\n",
        "print(arr)\n",
        "print(type(arr))"
      ]
    },
    {
      "cell_type": "markdown",
      "metadata": {
        "id": "dSg-E9dUMKsq"
      },
      "source": [
        "**Using 'zeros' and 'ones'**"
      ]
    },
    {
      "cell_type": "code",
      "source": [
        "np.zeros((2,2))"
      ],
      "metadata": {
        "colab": {
          "base_uri": "https://localhost:8080/"
        },
        "id": "-5MouLCZrvcT",
        "outputId": "2491807b-f94f-4327-a9c9-9cce22d115a6"
      },
      "execution_count": null,
      "outputs": [
        {
          "output_type": "execute_result",
          "data": {
            "text/plain": [
              "array([[0., 0.],\n",
              "       [0., 0.]])"
            ]
          },
          "metadata": {},
          "execution_count": 10
        }
      ]
    },
    {
      "cell_type": "code",
      "execution_count": null,
      "metadata": {
        "colab": {
          "base_uri": "https://localhost:8080/"
        },
        "id": "O4a6tacnfad7",
        "outputId": "48fdb310-d6f8-4867-faaa-d281a99c4282"
      },
      "outputs": [
        {
          "output_type": "stream",
          "name": "stdout",
          "text": [
            "Zeros Array:\n",
            "[[0. 0. 0. 0.]\n",
            " [0. 0. 0. 0.]\n",
            " [0. 0. 0. 0.]]\n",
            "\n",
            "\n",
            "Ones Array:\n",
            "[[1. 1. 1.]\n",
            " [1. 1. 1.]]\n"
          ]
        }
      ],
      "source": [
        "# Create an array with all zeros of desired shape\n",
        "\n",
        "zeros_array = np.zeros((3, 4))\n",
        "\n",
        "# Create an array of ones with shape (2, 3)\n",
        "ones_array = np.ones((2, 3))\n",
        "\n",
        "print(\"Zeros Array:\")\n",
        "print(zeros_array)\n",
        "print(\"\\n\")\n",
        "print(\"Ones Array:\")\n",
        "print(ones_array)"
      ]
    },
    {
      "cell_type": "markdown",
      "metadata": {
        "id": "JexxELXTNiSz"
      },
      "source": [
        "**Using 'linspace'**"
      ]
    },
    {
      "cell_type": "code",
      "execution_count": null,
      "metadata": {
        "colab": {
          "base_uri": "https://localhost:8080/"
        },
        "id": "bu1kaBA8faWo",
        "outputId": "335e327c-c707-489e-e24b-f04abf5f775f"
      },
      "outputs": [
        {
          "output_type": "stream",
          "name": "stdout",
          "text": [
            "[2. 4. 6. 8.]\n"
          ]
        }
      ],
      "source": [
        "# Creates an array of x values between a,b -- np.linspace(a,b,x)\n",
        "\n",
        "arr = np.linspace(2,8,4)\n",
        "print(arr)"
      ]
    },
    {
      "cell_type": "markdown",
      "metadata": {
        "id": "151HHc0tOQFg"
      },
      "source": [
        "**Using 'full'**"
      ]
    },
    {
      "cell_type": "code",
      "execution_count": null,
      "metadata": {
        "colab": {
          "base_uri": "https://localhost:8080/"
        },
        "id": "gXKXpGPefaSF",
        "outputId": "9b191bf6-8856-4f11-c25e-8f14f9c4fa91"
      },
      "outputs": [
        {
          "output_type": "stream",
          "name": "stdout",
          "text": [
            "<class 'numpy.ndarray'>\n",
            "[[3 3 3]\n",
            " [3 3 3]]\n"
          ]
        }
      ],
      "source": [
        "# numpy.full(shape, fill_value, dtype=None, order='C')\n",
        "\n",
        "arr = np.full((2,3),3)\n",
        "print(type(arr))\n",
        "print(arr)"
      ]
    },
    {
      "cell_type": "code",
      "execution_count": null,
      "metadata": {
        "colab": {
          "base_uri": "https://localhost:8080/"
        },
        "id": "gVPVk5q9faOG",
        "outputId": "ec73bae4-9a82-468b-f7d5-fcf88205bd94"
      },
      "outputs": [
        {
          "output_type": "stream",
          "name": "stdout",
          "text": [
            "<class 'numpy.ndarray'>\n",
            "[[0.00837054 0.45954597 0.28011908]\n",
            " [0.54718773 0.37958565 0.43817476]\n",
            " [0.95961646 0.88141166 0.77335607]\n",
            " [0.79409388 0.6156478  0.58953403]]\n"
          ]
        }
      ],
      "source": [
        "# Generate a random float between 0 and 1 --takes size as input\n",
        "\n",
        "arr = np.random.random((4,3))\n",
        "print(type(arr))\n",
        "print(arr)"
      ]
    },
    {
      "cell_type": "code",
      "execution_count": null,
      "metadata": {
        "colab": {
          "base_uri": "https://localhost:8080/"
        },
        "id": "ypeBA44AfaKo",
        "outputId": "0698647f-94e0-4b4d-dd70-e07e23319c42"
      },
      "outputs": [
        {
          "output_type": "stream",
          "name": "stdout",
          "text": [
            "<class 'numpy.ndarray'>\n",
            "[46 46 48 46 46]\n",
            "\n",
            "\n",
            "<class 'numpy.ndarray'>\n",
            "[[42 43]\n",
            " [47 40]]\n"
          ]
        }
      ],
      "source": [
        "# random.randint(low, high=None, size=None, dtype=int)\n",
        "# Return random integers from low (inclusive) to high (exclusive).\n",
        "\n",
        "arr1 = np.random.randint(40,50,5,dtype='int')\n",
        "print(type(arr1))\n",
        "print(arr1)\n",
        "print(\"\\n\")\n",
        "arr2 = np.random.randint(40,50,(2,2))\n",
        "print(type(arr2))\n",
        "print(arr2)"
      ]
    },
    {
      "cell_type": "code",
      "execution_count": null,
      "metadata": {
        "colab": {
          "base_uri": "https://localhost:8080/"
        },
        "id": "zEc3kJnjfaGv",
        "outputId": "df1650b9-659f-457e-cc57-e83b3c60cd89"
      },
      "outputs": [
        {
          "output_type": "stream",
          "name": "stdout",
          "text": [
            "<class 'numpy.ndarray'>\n",
            "[[2.64084176 6.92419705 5.67606603 6.5546035 ]\n",
            " [5.4718535  5.91938266 4.17187001 1.59782606]]\n",
            "\n",
            "\n",
            "<class 'float'>\n",
            "1.5936460932291023\n"
          ]
        }
      ],
      "source": [
        "# random.normal(loc=0.0, scale=1.0, size=None)\n",
        "# Draw random samples from a normal (Gaussian) distribution.\n",
        "\n",
        "arr = np.random.normal(3, 2.5, size=(2, 4))\n",
        "print(type(arr))\n",
        "print(arr)\n",
        "print(\"\\n\")\n",
        "arr2 = np.random.normal(3)\n",
        "print(type(arr2))\n",
        "print(arr2)"
      ]
    },
    {
      "cell_type": "markdown",
      "metadata": {
        "id": "Kft24NStR9KX"
      },
      "source": [
        "**Using 'eye'**"
      ]
    },
    {
      "cell_type": "code",
      "execution_count": null,
      "metadata": {
        "colab": {
          "base_uri": "https://localhost:8080/"
        },
        "id": "alFjnLcffaDV",
        "outputId": "64809c81-9ea0-46a3-ff72-64bb2939a9bb"
      },
      "outputs": [
        {
          "output_type": "stream",
          "name": "stdout",
          "text": [
            "<class 'numpy.ndarray'>\n",
            "[[1. 0. 0.]\n",
            " [0. 1. 0.]\n",
            " [0. 0. 1.]]\n"
          ]
        }
      ],
      "source": [
        "# Create a 3x3 identity matrix (all elements of the main diagonal are equal to 1, and all other elements are equal to 0)\n",
        "identity_matrix = np.eye(3)\n",
        "\n",
        "print(type(identity_matrix))\n",
        "print(identity_matrix)"
      ]
    },
    {
      "cell_type": "markdown",
      "metadata": {
        "id": "MoG52AkMSaU3"
      },
      "source": [
        "**Creating a custom array** + **Numpy Attributes**"
      ]
    },
    {
      "cell_type": "code",
      "source": [
        "np.array([1,2,5])"
      ],
      "metadata": {
        "colab": {
          "base_uri": "https://localhost:8080/"
        },
        "id": "ixo1xBOSu0Bl",
        "outputId": "2fdc8e29-ced0-40c9-a474-a577fae7fb57"
      },
      "execution_count": null,
      "outputs": [
        {
          "output_type": "execute_result",
          "data": {
            "text/plain": [
              "array([1, 2, 5])"
            ]
          },
          "metadata": {},
          "execution_count": 30
        }
      ]
    },
    {
      "cell_type": "code",
      "source": [
        "mat = np.array([[1,2,3],[7,8,9],[10,11,12]],dtype='int')\n",
        "print(mat)"
      ],
      "metadata": {
        "colab": {
          "base_uri": "https://localhost:8080/"
        },
        "id": "zn9rNeqauVYj",
        "outputId": "c8ebb0e7-cf3d-41df-b72b-0508219b630f"
      },
      "execution_count": null,
      "outputs": [
        {
          "output_type": "stream",
          "name": "stdout",
          "text": [
            "[[ 1  2  3]\n",
            " [ 7  8  9]\n",
            " [10 11 12]]\n"
          ]
        }
      ]
    },
    {
      "cell_type": "code",
      "execution_count": null,
      "metadata": {
        "colab": {
          "base_uri": "https://localhost:8080/"
        },
        "id": "1MRPwf2OfaAZ",
        "outputId": "6faac255-1a7f-4ac3-9503-e6df46f78af0"
      },
      "outputs": [
        {
          "output_type": "stream",
          "name": "stdout",
          "text": [
            "No. of dimensions:  2\n",
            "\n",
            "\n",
            "Shape of array:  (3, 3)\n",
            "\n",
            "\n",
            "Size of array:  9\n",
            "\n",
            "\n",
            "Array stores elements of type:  int64\n"
          ]
        }
      ],
      "source": [
        "# Printing array dimensions (axes)\n",
        "print(\"No. of dimensions: \", mat.ndim)\n",
        "print(\"\\n\")\n",
        "# Printing shape of array\n",
        "print(\"Shape of array: \", mat.shape)\n",
        "print(\"\\n\")\n",
        "# Printing size (total number of elements) of array\n",
        "print(\"Size of array: \", mat.size)\n",
        "print(\"\\n\")\n",
        "# Printing type of elements in array\n",
        "print(\"Array stores elements of type: \", mat.dtype)"
      ]
    },
    {
      "cell_type": "code",
      "execution_count": null,
      "metadata": {
        "colab": {
          "base_uri": "https://localhost:8080/"
        },
        "id": "UJfzgUQDfZ9E",
        "outputId": "4df903b0-fe66-454d-f938-ad1843b3e1f0"
      },
      "outputs": [
        {
          "output_type": "execute_result",
          "data": {
            "text/plain": [
              "array([[[ 1,  2,  3],\n",
              "        [ 4,  5,  6],\n",
              "        [ 7,  8,  9]],\n",
              "\n",
              "       [[10, 11, 12],\n",
              "        [13, 14, 15],\n",
              "        [16, 17, 18]],\n",
              "\n",
              "       [[19, 20, 21],\n",
              "        [22, 23, 24],\n",
              "        [25, 26, 27]]])"
            ]
          },
          "metadata": {},
          "execution_count": 34
        }
      ],
      "source": [
        "# 3 dimensional array\n",
        "\n",
        "nested_lists = np.array([\n",
        "    [[1, 2, 3], [4, 5, 6], [7, 8, 9]],\n",
        "    [[10, 11, 12], [13, 14, 15], [16, 17, 18]],\n",
        "    [[19, 20, 21], [22, 23, 24], [25, 26, 27]]\n",
        "])\n",
        "\n",
        "nested_lists"
      ]
    },
    {
      "cell_type": "code",
      "execution_count": null,
      "metadata": {
        "colab": {
          "base_uri": "https://localhost:8080/"
        },
        "id": "VzRHgPWhDf_m",
        "outputId": "708712d5-b5de-4bed-ef68-0299659793a8"
      },
      "outputs": [
        {
          "output_type": "execute_result",
          "data": {
            "text/plain": [
              "3"
            ]
          },
          "metadata": {},
          "execution_count": 35
        }
      ],
      "source": [
        "nested_lists.ndim"
      ]
    },
    {
      "cell_type": "code",
      "execution_count": null,
      "metadata": {
        "colab": {
          "base_uri": "https://localhost:8080/"
        },
        "id": "8AGUvNAKDz4D",
        "outputId": "a4ef2242-eb1c-448f-ee78-3722f44ae1bc"
      },
      "outputs": [
        {
          "output_type": "execute_result",
          "data": {
            "text/plain": [
              "(3, 3, 3)"
            ]
          },
          "metadata": {},
          "execution_count": 36
        }
      ],
      "source": [
        "nested_lists.shape"
      ]
    },
    {
      "cell_type": "code",
      "execution_count": null,
      "metadata": {
        "colab": {
          "base_uri": "https://localhost:8080/"
        },
        "id": "LqVKucRiD6dW",
        "outputId": "acf92d17-d677-4b45-ded4-d33ae00f472c"
      },
      "outputs": [
        {
          "output_type": "execute_result",
          "data": {
            "text/plain": [
              "27"
            ]
          },
          "metadata": {},
          "execution_count": 37
        }
      ],
      "source": [
        "nested_lists.size"
      ]
    },
    {
      "cell_type": "code",
      "execution_count": null,
      "metadata": {
        "colab": {
          "base_uri": "https://localhost:8080/"
        },
        "id": "f376qOqgW17y",
        "outputId": "62582a21-6dc6-46d8-8767-a6d3a0f01fde"
      },
      "outputs": [
        {
          "output_type": "stream",
          "name": "stdout",
          "text": [
            "<class 'numpy.ndarray'>\n",
            "[1 2 3]\n",
            "int32\n",
            "\n",
            "\n",
            "<class 'numpy.ndarray'>\n",
            "[1.  2.5 3.7]\n",
            "float64\n",
            "\n",
            "\n",
            "<class 'numpy.ndarray'>\n",
            "[ True False  True]\n",
            "bool\n",
            "\n",
            "\n",
            "<class 'numpy.ndarray'>\n",
            "[1.+2.j 3.-4.j]\n",
            "complex128\n",
            "\n",
            "\n",
            "<class 'numpy.ndarray'>\n",
            "['hello' 'world']\n",
            "<U5\n",
            "\n",
            "\n",
            "<class 'numpy.ndarray'>\n",
            "[1 'two' 3.0]\n",
            "object\n"
          ]
        }
      ],
      "source": [
        "import numpy as np\n",
        "\n",
        "# Integer types\n",
        "int_arr = np.array([1, 2, 3], dtype=np.int32)\n",
        "print(type(int_arr))\n",
        "print(int_arr)\n",
        "print(int_arr.dtype)\n",
        "print(\"\\n\")\n",
        "# Floating-point types\n",
        "float_arr = np.array([1.0, 2.5, 3.7], dtype=np.float64)\n",
        "print(type(float_arr))\n",
        "print(float_arr)\n",
        "print(float_arr.dtype)\n",
        "print(\"\\n\")\n",
        "# Boolean type\n",
        "bool_arr = np.array([True, False, True], dtype=bool)\n",
        "print(type(bool_arr))\n",
        "print(bool_arr)\n",
        "print(bool_arr.dtype)\n",
        "print(\"\\n\")\n",
        "# Complex number type\n",
        "complex_arr = np.array([1 + 2j, 3 - 4j], dtype=np.complex128)\n",
        "print(type(complex_arr))\n",
        "print(complex_arr)\n",
        "print(complex_arr.dtype)\n",
        "print(\"\\n\")\n",
        "# String type\n",
        "str_arr = np.array(['hello', 'world'], dtype=np.str_)\n",
        "print(type(str_arr))\n",
        "print(str_arr)\n",
        "print(str_arr.dtype)\n",
        "print(\"\\n\")\n",
        "# Object type\n",
        "object_arr = np.array([1, 'two', 3.0], dtype=object)\n",
        "print(type(object_arr))\n",
        "print(object_arr)\n",
        "print(object_arr.dtype)"
      ]
    },
    {
      "cell_type": "markdown",
      "metadata": {
        "id": "4tGtWXKAWMR5"
      },
      "source": [
        "# **Basic Numpy Operations**"
      ]
    },
    {
      "cell_type": "markdown",
      "metadata": {
        "id": "LGXeClA5YO92"
      },
      "source": [
        "**Reshaping Arrays**"
      ]
    },
    {
      "cell_type": "code",
      "execution_count": null,
      "metadata": {
        "colab": {
          "base_uri": "https://localhost:8080/"
        },
        "id": "b-zPFCeOfZ6A",
        "outputId": "31b85244-3b19-4d3c-9f57-899bbef5269e"
      },
      "outputs": [
        {
          "output_type": "stream",
          "name": "stdout",
          "text": [
            "Shape : (2, 3)\n",
            "[[1 2 3]\n",
            " [4 5 6]]\n",
            "\n",
            "\n",
            "Arr 2 Shape : (6, 1)\n",
            "[[1]\n",
            " [2]\n",
            " [3]\n",
            " [4]\n",
            " [5]\n",
            " [6]]\n"
          ]
        }
      ],
      "source": [
        "arr = np.array([[1,2,3],[4,5,6]])\n",
        "print(f\"Shape : {arr.shape}\")\n",
        "print(arr)\n",
        "print(\"\\n\")\n",
        "arr2 = arr.reshape(6,1)\n",
        "print(f\"Arr 2 Shape : {arr2.shape}\")\n",
        "print(arr2)"
      ]
    },
    {
      "cell_type": "code",
      "execution_count": null,
      "metadata": {
        "colab": {
          "base_uri": "https://localhost:8080/"
        },
        "id": "hxmYEqESfZ2s",
        "outputId": "75bc37d3-f214-498e-905f-e0b7a9e6c2e9"
      },
      "outputs": [
        {
          "output_type": "stream",
          "name": "stdout",
          "text": [
            "Array 1: [1 2 3]\n",
            "Array 2: [4 5 6]\n",
            "Concatenated Array: [1 2 3 4 5 6]\n"
          ]
        }
      ],
      "source": [
        "arr1 = np.array([1, 2, 3])\n",
        "\n",
        "arr2 = np.array([4, 5, 6])\n",
        "\n",
        "# Concatenate along axis 0 (rows)\n",
        "concatenated_array = np.concatenate((arr1, arr2))\n",
        "\n",
        "print(\"Array 1:\", arr1)\n",
        "print(\"Array 2:\", arr2)\n",
        "print(\"Concatenated Array:\", concatenated_array)\n"
      ]
    },
    {
      "cell_type": "code",
      "execution_count": null,
      "metadata": {
        "colab": {
          "base_uri": "https://localhost:8080/",
          "height": 211
        },
        "id": "IcZlYfdgGZwt",
        "outputId": "f5094fca-ac18-4db9-d9a3-9ae297964f4c"
      },
      "outputs": [
        {
          "output_type": "error",
          "ename": "AxisError",
          "evalue": "axis 1 is out of bounds for array of dimension 1",
          "traceback": [
            "\u001b[0;31m---------------------------------------------------------------------------\u001b[0m",
            "\u001b[0;31mAxisError\u001b[0m                                 Traceback (most recent call last)",
            "\u001b[0;32m<ipython-input-8-41bda7336163>\u001b[0m in \u001b[0;36m<cell line: 5>\u001b[0;34m()\u001b[0m\n\u001b[1;32m      3\u001b[0m \u001b[0;34m\u001b[0m\u001b[0m\n\u001b[1;32m      4\u001b[0m \u001b[0;31m# Concatenate along axis 0 (rows)\u001b[0m\u001b[0;34m\u001b[0m\u001b[0;34m\u001b[0m\u001b[0m\n\u001b[0;32m----> 5\u001b[0;31m \u001b[0mconcatenated_array\u001b[0m \u001b[0;34m=\u001b[0m \u001b[0mnp\u001b[0m\u001b[0;34m.\u001b[0m\u001b[0mconcatenate\u001b[0m\u001b[0;34m(\u001b[0m\u001b[0;34m(\u001b[0m\u001b[0marr1\u001b[0m\u001b[0;34m,\u001b[0m \u001b[0marr2\u001b[0m\u001b[0;34m)\u001b[0m\u001b[0;34m,\u001b[0m\u001b[0maxis\u001b[0m\u001b[0;34m=\u001b[0m\u001b[0;36m1\u001b[0m\u001b[0;34m)\u001b[0m\u001b[0;34m\u001b[0m\u001b[0;34m\u001b[0m\u001b[0m\n\u001b[0m\u001b[1;32m      6\u001b[0m \u001b[0;34m\u001b[0m\u001b[0m\n\u001b[1;32m      7\u001b[0m \u001b[0mprint\u001b[0m\u001b[0;34m(\u001b[0m\u001b[0;34m\"Array 1:\"\u001b[0m\u001b[0;34m,\u001b[0m \u001b[0marr1\u001b[0m\u001b[0;34m)\u001b[0m\u001b[0;34m\u001b[0m\u001b[0;34m\u001b[0m\u001b[0m\n",
            "\u001b[0;31mAxisError\u001b[0m: axis 1 is out of bounds for array of dimension 1"
          ]
        }
      ],
      "source": [
        "arr1 = np.array([1, 2,3])\n",
        "\n",
        "arr2 = np.array([4, 5, 6])\n",
        "\n",
        "# Concatenate along axis 0 (rows)\n",
        "concatenated_array = np.concatenate((arr1, arr2),axis=1)\n",
        "\n",
        "print(\"Array 1:\", arr1)\n",
        "print(\"Array 2:\", arr2)\n",
        "print(\"Concatenated Array:\", concatenated_array)"
      ]
    },
    {
      "cell_type": "code",
      "source": [
        "axis = 0 rowwise\n",
        "axis = 1 columnwise"
      ],
      "metadata": {
        "id": "498qtGr0zbzY"
      },
      "execution_count": null,
      "outputs": []
    },
    {
      "cell_type": "code",
      "execution_count": null,
      "metadata": {
        "colab": {
          "base_uri": "https://localhost:8080/"
        },
        "id": "gWve2_lWfZyi",
        "outputId": "54190d02-9f75-42af-bfd9-70a647785258"
      },
      "outputs": [
        {
          "output_type": "stream",
          "name": "stdout",
          "text": [
            "[[ 1  2  3  7  8  9]\n",
            " [ 4  5  6 10 11 12]]\n"
          ]
        }
      ],
      "source": [
        "array1 = np.array([[1, 2, 3],\n",
        "                   [4, 5, 6]])\n",
        "\n",
        "array2 = np.array([[7, 8, 9],\n",
        "                   [10, 11, 12]])\n",
        "\n",
        "# Concatenate along columns\n",
        "result = np.concatenate((array1, array2), axis=1)\n",
        "print(result)"
      ]
    },
    {
      "cell_type": "markdown",
      "metadata": {
        "id": "PCDwMsKKb9CM"
      },
      "source": [
        "**Operations on a single array**"
      ]
    },
    {
      "cell_type": "code",
      "source": [
        "num = [1,2,3,4]\n",
        "add = 1\n",
        "for i in num:\n",
        "  sum = i + add\n",
        "  print(sum)"
      ],
      "metadata": {
        "colab": {
          "base_uri": "https://localhost:8080/"
        },
        "id": "rYKFovzUz-Jv",
        "outputId": "78e48469-72c8-48e5-80a3-744370c6b5ca"
      },
      "execution_count": null,
      "outputs": [
        {
          "output_type": "stream",
          "name": "stdout",
          "text": [
            "2\n",
            "3\n",
            "4\n",
            "5\n"
          ]
        }
      ]
    },
    {
      "cell_type": "code",
      "source": [
        "num + add"
      ],
      "metadata": {
        "colab": {
          "base_uri": "https://localhost:8080/",
          "height": 141
        },
        "id": "JF1CjQZ-0Ln3",
        "outputId": "a4c314ae-de64-4c10-a5d3-93c593861bda"
      },
      "execution_count": null,
      "outputs": [
        {
          "output_type": "error",
          "ename": "TypeError",
          "evalue": "can only concatenate list (not \"int\") to list",
          "traceback": [
            "\u001b[0;31m---------------------------------------------------------------------------\u001b[0m",
            "\u001b[0;31mTypeError\u001b[0m                                 Traceback (most recent call last)",
            "\u001b[0;32m<ipython-input-13-68357b884b03>\u001b[0m in \u001b[0;36m<cell line: 1>\u001b[0;34m()\u001b[0m\n\u001b[0;32m----> 1\u001b[0;31m \u001b[0mnum\u001b[0m \u001b[0;34m+\u001b[0m \u001b[0madd\u001b[0m\u001b[0;34m\u001b[0m\u001b[0;34m\u001b[0m\u001b[0m\n\u001b[0m",
            "\u001b[0;31mTypeError\u001b[0m: can only concatenate list (not \"int\") to list"
          ]
        }
      ]
    },
    {
      "cell_type": "code",
      "execution_count": null,
      "metadata": {
        "colab": {
          "base_uri": "https://localhost:8080/"
        },
        "id": "nDpegdGLfZtT",
        "outputId": "6c264346-f5fe-4346-a979-c1afa0773052"
      },
      "outputs": [
        {
          "output_type": "stream",
          "name": "stdout",
          "text": [
            "Adding 1 to every element: [2 3 6 4]\n",
            "Subtracting 3 from each element: [-2 -1  2  0]\n",
            "Multiplying each element by 10: [10 20 50 30]\n",
            "Squaring each element: [ 1  4 25  9]\n"
          ]
        }
      ],
      "source": [
        "a = np.array([1, 2, 5, 3])\n",
        "\n",
        "# add 1 to every element\n",
        "print (\"Adding 1 to every element:\", a+1)\n",
        "\n",
        "# subtract 3 from each element\n",
        "print (\"Subtracting 3 from each element:\", a-3)\n",
        "\n",
        "# multiply each element by 10\n",
        "print (\"Multiplying each element by 10:\", a*10)\n",
        "\n",
        "# square each element\n",
        "print (\"Squaring each element:\", a**2)\n"
      ]
    },
    {
      "cell_type": "code",
      "execution_count": null,
      "metadata": {
        "colab": {
          "base_uri": "https://localhost:8080/",
          "height": 228
        },
        "id": "mzGx8JC1ccir",
        "outputId": "d4e30c03-7bf5-4b9b-f163-cfef1147b0c3"
      },
      "outputs": [
        {
          "name": "stdout",
          "output_type": "stream",
          "text": [
            "<class 'list'>\n"
          ]
        },
        {
          "ename": "TypeError",
          "evalue": "can only concatenate list (not \"int\") to list",
          "output_type": "error",
          "traceback": [
            "\u001b[0;31m---------------------------------------------------------------------------\u001b[0m",
            "\u001b[0;31mTypeError\u001b[0m                                 Traceback (most recent call last)",
            "\u001b[0;32m<ipython-input-13-03607c985834>\u001b[0m in \u001b[0;36m<cell line: 3>\u001b[0;34m()\u001b[0m\n\u001b[1;32m      1\u001b[0m \u001b[0ma\u001b[0m \u001b[0;34m=\u001b[0m \u001b[0;34m[\u001b[0m\u001b[0;36m1\u001b[0m\u001b[0;34m,\u001b[0m\u001b[0;36m2\u001b[0m\u001b[0;34m,\u001b[0m\u001b[0;36m5\u001b[0m\u001b[0;34m,\u001b[0m\u001b[0;36m3\u001b[0m\u001b[0;34m]\u001b[0m\u001b[0;34m\u001b[0m\u001b[0;34m\u001b[0m\u001b[0m\n\u001b[1;32m      2\u001b[0m \u001b[0mprint\u001b[0m\u001b[0;34m(\u001b[0m\u001b[0mtype\u001b[0m\u001b[0;34m(\u001b[0m\u001b[0ma\u001b[0m\u001b[0;34m)\u001b[0m\u001b[0;34m)\u001b[0m\u001b[0;34m\u001b[0m\u001b[0;34m\u001b[0m\u001b[0m\n\u001b[0;32m----> 3\u001b[0;31m \u001b[0mprint\u001b[0m\u001b[0;34m(\u001b[0m\u001b[0ma\u001b[0m \u001b[0;34m+\u001b[0m \u001b[0;36m1\u001b[0m\u001b[0;34m)\u001b[0m\u001b[0;34m\u001b[0m\u001b[0;34m\u001b[0m\u001b[0m\n\u001b[0m",
            "\u001b[0;31mTypeError\u001b[0m: can only concatenate list (not \"int\") to list"
          ]
        }
      ],
      "source": [
        "a = [1,2,5,3]\n",
        "print(type(a))\n",
        "print(a + 1)"
      ]
    },
    {
      "cell_type": "code",
      "execution_count": null,
      "metadata": {
        "id": "b7684MyzcWN-"
      },
      "outputs": [],
      "source": [
        "import time"
      ]
    },
    {
      "cell_type": "code",
      "execution_count": null,
      "metadata": {
        "colab": {
          "base_uri": "https://localhost:8080/"
        },
        "id": "DPe2-sZTfZqE",
        "outputId": "040d5146-be31-4018-deb9-1931bda5faa5"
      },
      "outputs": [
        {
          "output_type": "stream",
          "name": "stdout",
          "text": [
            "Sum using Python List: 4999999950000000, Time: 0.945462 seconds\n",
            "Sum using NumPy Array: 4999999950000000, Time: 0.121986 seconds\n"
          ]
        }
      ],
      "source": [
        "# Create a large dataset\n",
        "size = 10**8\n",
        "python_list = list(range(size))\n",
        "numpy_array = np.array(python_list)\n",
        "\n",
        "# Sum using Python list\n",
        "start_time = time.time()\n",
        "python_list_sum = sum(python_list)\n",
        "end_time = time.time()\n",
        "python_list_time = end_time - start_time\n",
        "\n",
        "# Sum using NumPy array\n",
        "start_time = time.time()\n",
        "numpy_array_sum = np.sum(numpy_array)\n",
        "end_time = time.time()\n",
        "numpy_array_time = end_time - start_time\n",
        "\n",
        "print(f\"Sum using Python List: {python_list_sum}, Time: {python_list_time:.6f} seconds\")\n",
        "print(f\"Sum using NumPy Array: {numpy_array_sum}, Time: {numpy_array_time:.6f} seconds\")"
      ]
    },
    {
      "cell_type": "code",
      "source": [],
      "metadata": {
        "id": "vipIU-w11ElZ"
      },
      "execution_count": null,
      "outputs": []
    },
    {
      "cell_type": "code",
      "execution_count": null,
      "metadata": {
        "colab": {
          "base_uri": "https://localhost:8080/"
        },
        "id": "8KA--CHsfZj5",
        "outputId": "7acf7124-59ce-43b7-a0c5-a82ae4c13a5b"
      },
      "outputs": [
        {
          "output_type": "stream",
          "name": "stdout",
          "text": [
            "Original Array: [1 2 3 4 5]\n",
            "Sum: 15\n",
            "Mean: 3.0\n",
            "Max: 5\n",
            "Min 1\n"
          ]
        }
      ],
      "source": [
        "arr = np.array([1, 2, 3, 4, 5])\n",
        "\n",
        "# Sum of all elements\n",
        "sum_elements = np.sum(arr)\n",
        "\n",
        "# Mean of all elements\n",
        "mean_value = np.mean(arr)\n",
        "\n",
        "# Maximum element\n",
        "max_value = np.max(arr)\n",
        "\n",
        "# Minimum element\n",
        "min_value = np.min(arr)\n",
        "\n",
        "\n",
        "print(\"Original Array:\", arr)\n",
        "print(\"Sum:\", sum_elements)\n",
        "print(\"Mean:\", mean_value)\n",
        "print(\"Max:\", max_value)\n",
        "print(\"Min\", min_value)"
      ]
    },
    {
      "cell_type": "markdown",
      "metadata": {
        "id": "NCdU1Sn8zmx1"
      },
      "source": [
        "**Vectorization (Arrays vs Lists)**"
      ]
    },
    {
      "cell_type": "code",
      "execution_count": null,
      "metadata": {
        "id": "Hdbg1S9RTh1h"
      },
      "outputs": [],
      "source": [
        "import numpy as np"
      ]
    },
    {
      "cell_type": "code",
      "execution_count": null,
      "metadata": {
        "colab": {
          "base_uri": "https://localhost:8080/"
        },
        "id": "y3WC2k2cz4Cd",
        "outputId": "0542b7ec-4d11-46c1-e4a7-306c9efd65ab"
      },
      "outputs": [
        {
          "output_type": "stream",
          "name": "stdout",
          "text": [
            "[7, 9, 11, 13, 15]\n"
          ]
        }
      ],
      "source": [
        "# Creating two Python lists\n",
        "a_list = [1, 2, 3, 4, 5]\n",
        "b_list = [6, 7, 8, 9, 10]\n",
        "\n",
        "# Element-wise addition using a loop\n",
        "result_list = []\n",
        "for i in range(len(a_list)):\n",
        "    result_list.append(a_list[i] + b_list[i])\n",
        "\n",
        "print(result_list)  # Output: [7, 9, 11, 13, 15]"
      ]
    },
    {
      "cell_type": "code",
      "execution_count": null,
      "metadata": {
        "colab": {
          "base_uri": "https://localhost:8080/"
        },
        "id": "T-EF2cyDfZd_",
        "outputId": "1db1c774-c221-4fcf-a00c-7006ae09d5c3"
      },
      "outputs": [
        {
          "output_type": "stream",
          "name": "stdout",
          "text": [
            "[ 7  9 11 13 15]\n"
          ]
        }
      ],
      "source": [
        "# Creating two NumPy arrays\n",
        "a = np.array([1, 2, 3, 4, 5])\n",
        "b = np.array([6, 7, 8, 9, 10])\n",
        "\n",
        "# Element-wise addition using vectorization\n",
        "result = a + b\n",
        "\n",
        "print(result)  # Output: [ 7  9 11 13 15]\n"
      ]
    },
    {
      "cell_type": "markdown",
      "metadata": {
        "id": "rgVjRukF0ZXJ"
      },
      "source": [
        "**Broadcasting**"
      ]
    },
    {
      "cell_type": "code",
      "execution_count": null,
      "metadata": {
        "colab": {
          "base_uri": "https://localhost:8080/"
        },
        "id": "OZZQtH5-fZat",
        "outputId": "1b03925b-1391-424e-aa11-450834e86803"
      },
      "outputs": [
        {
          "output_type": "stream",
          "name": "stdout",
          "text": [
            "[[1 2 3]\n",
            " [4 5 6]]\n",
            "\n",
            "[10 20 30]\n",
            "[[11 22 33]\n",
            " [14 25 36]]\n"
          ]
        }
      ],
      "source": [
        "# Creating a 2x3 array\n",
        "a = np.array([[1, 2, 3],\n",
        "              [4, 5, 6]])\n",
        "\n",
        "# Creating a 1x3 array\n",
        "b = np.array([10, 20, 30])\n",
        "\n",
        "# Performing broadcasting addition\n",
        "result = a + b\n",
        "print(a)\n",
        "print()\n",
        "print(b)\n",
        "print(result)"
      ]
    },
    {
      "cell_type": "code",
      "execution_count": null,
      "metadata": {
        "colab": {
          "base_uri": "https://localhost:8080/"
        },
        "id": "hqBASbQ3fZX1",
        "outputId": "14494676-8e03-4def-bb9e-15cf5170892b"
      },
      "outputs": [
        {
          "output_type": "stream",
          "name": "stdout",
          "text": [
            "[[ -9 -18 -27]\n",
            " [ -6 -15 -24]\n",
            " [ -3 -12 -21]]\n"
          ]
        }
      ],
      "source": [
        "# Creating a 3x3 array\n",
        "a = np.array([[1, 2, 3],\n",
        "              [4, 5, 6],\n",
        "              [7, 8, 9]])\n",
        "\n",
        "# Creating a 1x3 array\n",
        "b = np.array([10, 20, 30])\n",
        "\n",
        "# Performing broadcasting subtraction\n",
        "result = a - b\n",
        "\n",
        "print(result)"
      ]
    },
    {
      "cell_type": "code",
      "execution_count": null,
      "metadata": {
        "id": "zjMv6gRFfY1k"
      },
      "outputs": [],
      "source": []
    },
    {
      "cell_type": "code",
      "execution_count": null,
      "metadata": {
        "id": "L1WJZ1FCfYyn"
      },
      "outputs": [],
      "source": []
    },
    {
      "cell_type": "code",
      "execution_count": null,
      "metadata": {
        "id": "aKIegXwafYvt"
      },
      "outputs": [],
      "source": []
    },
    {
      "cell_type": "code",
      "execution_count": null,
      "metadata": {
        "id": "a6Bzm53vfYsd"
      },
      "outputs": [],
      "source": []
    },
    {
      "cell_type": "code",
      "execution_count": null,
      "metadata": {
        "id": "xw9ZtX7JfYpe"
      },
      "outputs": [],
      "source": []
    },
    {
      "cell_type": "code",
      "execution_count": null,
      "metadata": {
        "id": "m-T1hm3bfYmH"
      },
      "outputs": [],
      "source": []
    },
    {
      "cell_type": "code",
      "execution_count": null,
      "metadata": {
        "id": "qT-CZ9C8fYix"
      },
      "outputs": [],
      "source": []
    },
    {
      "cell_type": "code",
      "execution_count": null,
      "metadata": {
        "id": "7kCTMSErfYfa"
      },
      "outputs": [],
      "source": []
    },
    {
      "cell_type": "code",
      "execution_count": null,
      "metadata": {
        "id": "V2qD86XvfYcP"
      },
      "outputs": [],
      "source": []
    },
    {
      "cell_type": "code",
      "execution_count": null,
      "metadata": {
        "id": "Ng0DNIj9fYZS"
      },
      "outputs": [],
      "source": []
    },
    {
      "cell_type": "code",
      "execution_count": null,
      "metadata": {
        "id": "D14ODoo-fYWS"
      },
      "outputs": [],
      "source": []
    },
    {
      "cell_type": "code",
      "execution_count": null,
      "metadata": {
        "id": "MkgWfzHjfYTT"
      },
      "outputs": [],
      "source": []
    },
    {
      "cell_type": "code",
      "execution_count": null,
      "metadata": {
        "id": "phRMKC4sfYQM"
      },
      "outputs": [],
      "source": []
    },
    {
      "cell_type": "code",
      "execution_count": null,
      "metadata": {
        "id": "2Cy2NdpvfYNT"
      },
      "outputs": [],
      "source": []
    },
    {
      "cell_type": "code",
      "execution_count": null,
      "metadata": {
        "id": "k3vldjJHfYKN"
      },
      "outputs": [],
      "source": []
    },
    {
      "cell_type": "code",
      "execution_count": null,
      "metadata": {
        "id": "yhSvK3mGfYHK"
      },
      "outputs": [],
      "source": []
    },
    {
      "cell_type": "code",
      "execution_count": null,
      "metadata": {
        "id": "G-9-zMvafYD8"
      },
      "outputs": [],
      "source": []
    },
    {
      "cell_type": "code",
      "execution_count": null,
      "metadata": {
        "id": "TD-Xda64fYBG"
      },
      "outputs": [],
      "source": []
    },
    {
      "cell_type": "code",
      "execution_count": null,
      "metadata": {
        "id": "IL3IwuAZfX9y"
      },
      "outputs": [],
      "source": []
    },
    {
      "cell_type": "code",
      "execution_count": null,
      "metadata": {
        "id": "CgnADjohfX3N"
      },
      "outputs": [],
      "source": []
    }
  ],
  "metadata": {
    "colab": {
      "provenance": []
    },
    "kernelspec": {
      "display_name": "Python 3",
      "name": "python3"
    },
    "language_info": {
      "name": "python"
    }
  },
  "nbformat": 4,
  "nbformat_minor": 0
}